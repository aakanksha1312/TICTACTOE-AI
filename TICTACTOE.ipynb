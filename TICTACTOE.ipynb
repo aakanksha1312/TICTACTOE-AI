{
 "cells": [
  {
   "cell_type": "code",
   "execution_count": 1,
   "id": "96142af0-5208-4dc8-98ea-c9136e61f256",
   "metadata": {},
   "outputs": [
    {
     "name": "stdout",
     "output_type": "stream",
     "text": [
      "  |   |  \n",
      "-----\n",
      "  |   |  \n",
      "-----\n",
      "  |   |  \n",
      "-----\n"
     ]
    },
    {
     "name": "stdin",
     "output_type": "stream",
     "text": [
      "Enter your move (row col):  1 3\n"
     ]
    },
    {
     "name": "stdout",
     "output_type": "stream",
     "text": [
      "Invalid input. Please enter row and column as two integers from 0 to 2.\n"
     ]
    },
    {
     "name": "stdin",
     "output_type": "stream",
     "text": [
      "Enter your move (row col):  0 2\n"
     ]
    },
    {
     "name": "stdout",
     "output_type": "stream",
     "text": [
      "  |   | X\n",
      "-----\n",
      "  |   |  \n",
      "-----\n",
      "  |   |  \n",
      "-----\n",
      "AI is making its move...\n",
      "  |   | X\n",
      "-----\n",
      "  | O |  \n",
      "-----\n",
      "  |   |  \n",
      "-----\n"
     ]
    },
    {
     "name": "stdin",
     "output_type": "stream",
     "text": [
      "Enter your move (row col):  1 2\n"
     ]
    },
    {
     "name": "stdout",
     "output_type": "stream",
     "text": [
      "  |   | X\n",
      "-----\n",
      "  | O | X\n",
      "-----\n",
      "  |   |  \n",
      "-----\n",
      "AI is making its move...\n",
      "  |   | X\n",
      "-----\n",
      "  | O | X\n",
      "-----\n",
      "  |   | O\n",
      "-----\n"
     ]
    },
    {
     "name": "stdin",
     "output_type": "stream",
     "text": [
      "Enter your move (row col):  0 0\n"
     ]
    },
    {
     "name": "stdout",
     "output_type": "stream",
     "text": [
      "X |   | X\n",
      "-----\n",
      "  | O | X\n",
      "-----\n",
      "  |   | O\n",
      "-----\n",
      "AI is making its move...\n",
      "X | O | X\n",
      "-----\n",
      "  | O | X\n",
      "-----\n",
      "  |   | O\n",
      "-----\n"
     ]
    },
    {
     "name": "stdin",
     "output_type": "stream",
     "text": [
      "Enter your move (row col):  2 2\n"
     ]
    },
    {
     "name": "stdout",
     "output_type": "stream",
     "text": [
      "That spot is already taken.\n"
     ]
    },
    {
     "name": "stdin",
     "output_type": "stream",
     "text": [
      "Enter your move (row col):  2 1\n"
     ]
    },
    {
     "name": "stdout",
     "output_type": "stream",
     "text": [
      "X | O | X\n",
      "-----\n",
      "  | O | X\n",
      "-----\n",
      "  | X | O\n",
      "-----\n",
      "AI is making its move...\n",
      "X | O | X\n",
      "-----\n",
      "O | O | X\n",
      "-----\n",
      "  | X | O\n",
      "-----\n"
     ]
    },
    {
     "name": "stdin",
     "output_type": "stream",
     "text": [
      "Enter your move (row col):  2 0\n"
     ]
    },
    {
     "name": "stdout",
     "output_type": "stream",
     "text": [
      "X | O | X\n",
      "-----\n",
      "O | O | X\n",
      "-----\n",
      "X | X | O\n",
      "-----\n",
      "It's a draw!\n"
     ]
    }
   ],
   "source": [
    "# Tic-Tac-Toe Game with Minimax AI\n",
    "\n",
    "import random\n",
    "\n",
    "#Board display\n",
    "def print_board(board):\n",
    "    for row in board:\n",
    "        print(\" | \".join(row))\n",
    "        print(\"-\" * 5)\n",
    "\n",
    "# Check available spots\n",
    "def available_moves(board):\n",
    "    return [(i, j) for i in range(3) for j in range(3) if board[i][j] == \" \"]\n",
    "\n",
    "# Check if current player won\n",
    "def check_winner(board, player):\n",
    "    # Check rows, columns, and diagonals\n",
    "    for i in range(3):\n",
    "        if all([board[i][j] == player for j in range(3)]) or \\\n",
    "           all([board[j][i] == player for j in range(3)]):\n",
    "            return True\n",
    "    if board[0][0] == player and board[1][1] == player and board[2][2] == player:\n",
    "        return True\n",
    "    if board[0][2] == player and board[1][1] == player and board[2][0] == player:\n",
    "        return True\n",
    "    return False\n",
    "\n",
    "# Check if board is full\n",
    "def is_full(board):\n",
    "    return all(board[i][j] != \" \" for i in range(3) for j in range(3))\n",
    "\n",
    "# Minimax algorithm for best move\n",
    "def minimax(board, depth, is_maximizing, alpha, beta):\n",
    "    if check_winner(board, \"O\"):\n",
    "        return 10 - depth\n",
    "    if check_winner(board, \"X\"):\n",
    "        return depth - 10\n",
    "    if is_full(board):\n",
    "        return 0\n",
    "\n",
    "    if is_maximizing:\n",
    "        max_eval = float('-inf')\n",
    "        for i, j in available_moves(board):\n",
    "            board[i][j] = \"O\"\n",
    "            eval = minimax(board, depth + 1, False, alpha, beta)\n",
    "            board[i][j] = \" \"\n",
    "            max_eval = max(max_eval, eval)\n",
    "            alpha = max(alpha, eval)\n",
    "            if beta <= alpha:\n",
    "                break\n",
    "        return max_eval\n",
    "    else:\n",
    "        min_eval = float('inf')\n",
    "        for i, j in available_moves(board):\n",
    "            board[i][j] = \"X\"\n",
    "            eval = minimax(board, depth + 1, True, alpha, beta)\n",
    "            board[i][j] = \" \"\n",
    "            min_eval = min(min_eval, eval)\n",
    "            beta = min(beta, eval)\n",
    "            if beta <= alpha:\n",
    "                break\n",
    "        return min_eval\n",
    "\n",
    "# Function for AI to make a move\n",
    "def ai_move(board):\n",
    "    best_move = None\n",
    "    best_value = float('-inf')\n",
    "    for i, j in available_moves(board):\n",
    "        board[i][j] = \"O\"\n",
    "        move_value = minimax(board, 0, False, float('-inf'), float('inf'))\n",
    "        board[i][j] = \" \"\n",
    "        if move_value > best_value:\n",
    "            best_value = move_value\n",
    "            best_move = (i, j)\n",
    "    return best_move\n",
    "\n",
    "# Function for the human player to make a move\n",
    "def human_move(board):\n",
    "    while True:\n",
    "        try:\n",
    "            move = input(\"Enter your move (row col): \").split()\n",
    "            row, col = int(move[0]), int(move[1])\n",
    "            if board[row][col] == \" \":\n",
    "                return (row, col)\n",
    "            else:\n",
    "                print(\"That spot is already taken.\")\n",
    "        except (ValueError, IndexError):\n",
    "            print(\"Invalid input. Please enter row and column as two integers from 0 to 2.\")\n",
    "\n",
    "# Game Loop\n",
    "def play_game():\n",
    "    board = [[\" \" for _ in range(3)] for _ in range(3)]\n",
    "    print_board(board)\n",
    "    \n",
    "    while True:\n",
    "        # Player X (Person)\n",
    "        row, col = human_move(board)\n",
    "        board[row][col] = \"X\"\n",
    "        print_board(board)\n",
    "        if check_winner(board, \"X\"):\n",
    "            print(\"You win!\")\n",
    "            break\n",
    "        if is_full(board):\n",
    "            print(\"It's a draw!\")\n",
    "            break\n",
    "        \n",
    "        # Player O (AI)\n",
    "        print(\"AI is making its move...\")\n",
    "        row, col = ai_move(board)\n",
    "        board[row][col] = \"O\"\n",
    "        print_board(board)\n",
    "        if check_winner(board, \"O\"):\n",
    "            print(\"AI wins!\")\n",
    "            break\n",
    "        if is_full(board):\n",
    "            print(\"It's a draw!\")\n",
    "            break\n",
    "\n",
    "# Run the Game\n",
    "if __name__ == \"__main__\":\n",
    "    play_game()\n"
   ]
  },
  {
   "cell_type": "code",
   "execution_count": null,
   "id": "ded3b112-6a96-4e72-bc32-65d5772e5c85",
   "metadata": {},
   "outputs": [],
   "source": []
  }
 ],
 "metadata": {
  "kernelspec": {
   "display_name": "Python [conda env:base] *",
   "language": "python",
   "name": "conda-base-py"
  },
  "language_info": {
   "codemirror_mode": {
    "name": "ipython",
    "version": 3
   },
   "file_extension": ".py",
   "mimetype": "text/x-python",
   "name": "python",
   "nbconvert_exporter": "python",
   "pygments_lexer": "ipython3",
   "version": "3.12.7"
  }
 },
 "nbformat": 4,
 "nbformat_minor": 5
}
